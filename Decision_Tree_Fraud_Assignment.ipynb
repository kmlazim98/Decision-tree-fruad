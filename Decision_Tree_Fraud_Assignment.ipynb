{
  "cells": [
    {
      "cell_type": "code",
      "execution_count": null,
      "id": "54d21166",
      "metadata": {
        "id": "54d21166",
        "outputId": "cac8e050-a7f3-49d1-cea6-720ecfae48fd"
      },
      "outputs": [
        {
          "data": {
            "text/html": [
              "<div>\n",
              "<style scoped>\n",
              "    .dataframe tbody tr th:only-of-type {\n",
              "        vertical-align: middle;\n",
              "    }\n",
              "\n",
              "    .dataframe tbody tr th {\n",
              "        vertical-align: top;\n",
              "    }\n",
              "\n",
              "    .dataframe thead th {\n",
              "        text-align: right;\n",
              "    }\n",
              "</style>\n",
              "<table border=\"1\" class=\"dataframe\">\n",
              "  <thead>\n",
              "    <tr style=\"text-align: right;\">\n",
              "      <th></th>\n",
              "      <th>Undergrad</th>\n",
              "      <th>Marital.Status</th>\n",
              "      <th>Taxable.Income</th>\n",
              "      <th>City.Population</th>\n",
              "      <th>Work.Experience</th>\n",
              "      <th>Urban</th>\n",
              "    </tr>\n",
              "  </thead>\n",
              "  <tbody>\n",
              "    <tr>\n",
              "      <th>0</th>\n",
              "      <td>NO</td>\n",
              "      <td>Single</td>\n",
              "      <td>68833</td>\n",
              "      <td>50047</td>\n",
              "      <td>10</td>\n",
              "      <td>YES</td>\n",
              "    </tr>\n",
              "    <tr>\n",
              "      <th>1</th>\n",
              "      <td>YES</td>\n",
              "      <td>Divorced</td>\n",
              "      <td>33700</td>\n",
              "      <td>134075</td>\n",
              "      <td>18</td>\n",
              "      <td>YES</td>\n",
              "    </tr>\n",
              "    <tr>\n",
              "      <th>2</th>\n",
              "      <td>NO</td>\n",
              "      <td>Married</td>\n",
              "      <td>36925</td>\n",
              "      <td>160205</td>\n",
              "      <td>30</td>\n",
              "      <td>YES</td>\n",
              "    </tr>\n",
              "    <tr>\n",
              "      <th>3</th>\n",
              "      <td>YES</td>\n",
              "      <td>Single</td>\n",
              "      <td>50190</td>\n",
              "      <td>193264</td>\n",
              "      <td>15</td>\n",
              "      <td>YES</td>\n",
              "    </tr>\n",
              "    <tr>\n",
              "      <th>4</th>\n",
              "      <td>NO</td>\n",
              "      <td>Married</td>\n",
              "      <td>81002</td>\n",
              "      <td>27533</td>\n",
              "      <td>28</td>\n",
              "      <td>NO</td>\n",
              "    </tr>\n",
              "    <tr>\n",
              "      <th>...</th>\n",
              "      <td>...</td>\n",
              "      <td>...</td>\n",
              "      <td>...</td>\n",
              "      <td>...</td>\n",
              "      <td>...</td>\n",
              "      <td>...</td>\n",
              "    </tr>\n",
              "    <tr>\n",
              "      <th>595</th>\n",
              "      <td>YES</td>\n",
              "      <td>Divorced</td>\n",
              "      <td>76340</td>\n",
              "      <td>39492</td>\n",
              "      <td>7</td>\n",
              "      <td>YES</td>\n",
              "    </tr>\n",
              "    <tr>\n",
              "      <th>596</th>\n",
              "      <td>YES</td>\n",
              "      <td>Divorced</td>\n",
              "      <td>69967</td>\n",
              "      <td>55369</td>\n",
              "      <td>2</td>\n",
              "      <td>YES</td>\n",
              "    </tr>\n",
              "    <tr>\n",
              "      <th>597</th>\n",
              "      <td>NO</td>\n",
              "      <td>Divorced</td>\n",
              "      <td>47334</td>\n",
              "      <td>154058</td>\n",
              "      <td>0</td>\n",
              "      <td>YES</td>\n",
              "    </tr>\n",
              "    <tr>\n",
              "      <th>598</th>\n",
              "      <td>YES</td>\n",
              "      <td>Married</td>\n",
              "      <td>98592</td>\n",
              "      <td>180083</td>\n",
              "      <td>17</td>\n",
              "      <td>NO</td>\n",
              "    </tr>\n",
              "    <tr>\n",
              "      <th>599</th>\n",
              "      <td>NO</td>\n",
              "      <td>Divorced</td>\n",
              "      <td>96519</td>\n",
              "      <td>158137</td>\n",
              "      <td>16</td>\n",
              "      <td>NO</td>\n",
              "    </tr>\n",
              "  </tbody>\n",
              "</table>\n",
              "<p>600 rows × 6 columns</p>\n",
              "</div>"
            ],
            "text/plain": [
              "    Undergrad Marital.Status  Taxable.Income  City.Population  \\\n",
              "0          NO         Single           68833            50047   \n",
              "1         YES       Divorced           33700           134075   \n",
              "2          NO        Married           36925           160205   \n",
              "3         YES         Single           50190           193264   \n",
              "4          NO        Married           81002            27533   \n",
              "..        ...            ...             ...              ...   \n",
              "595       YES       Divorced           76340            39492   \n",
              "596       YES       Divorced           69967            55369   \n",
              "597        NO       Divorced           47334           154058   \n",
              "598       YES        Married           98592           180083   \n",
              "599        NO       Divorced           96519           158137   \n",
              "\n",
              "     Work.Experience Urban  \n",
              "0                 10   YES  \n",
              "1                 18   YES  \n",
              "2                 30   YES  \n",
              "3                 15   YES  \n",
              "4                 28    NO  \n",
              "..               ...   ...  \n",
              "595                7   YES  \n",
              "596                2   YES  \n",
              "597                0   YES  \n",
              "598               17    NO  \n",
              "599               16    NO  \n",
              "\n",
              "[600 rows x 6 columns]"
            ]
          },
          "execution_count": 38,
          "metadata": {},
          "output_type": "execute_result"
        }
      ],
      "source": [
        "import pandas as pd\n",
        "fraud = pd.read_csv('Fraud_check.csv')\n",
        "fraud"
      ]
    },
    {
      "cell_type": "code",
      "execution_count": null,
      "id": "e2796095",
      "metadata": {
        "scrolled": true,
        "id": "e2796095",
        "outputId": "b41dde84-b742-4113-9341-7bb643ac0bbe"
      },
      "outputs": [
        {
          "data": {
            "text/html": [
              "<div>\n",
              "<style scoped>\n",
              "    .dataframe tbody tr th:only-of-type {\n",
              "        vertical-align: middle;\n",
              "    }\n",
              "\n",
              "    .dataframe tbody tr th {\n",
              "        vertical-align: top;\n",
              "    }\n",
              "\n",
              "    .dataframe thead th {\n",
              "        text-align: right;\n",
              "    }\n",
              "</style>\n",
              "<table border=\"1\" class=\"dataframe\">\n",
              "  <thead>\n",
              "    <tr style=\"text-align: right;\">\n",
              "      <th></th>\n",
              "      <th>Undergrad</th>\n",
              "      <th>Marital.Status</th>\n",
              "      <th>City.Population</th>\n",
              "      <th>Work.Experience</th>\n",
              "      <th>Urban</th>\n",
              "      <th>Taxable.Income</th>\n",
              "    </tr>\n",
              "  </thead>\n",
              "  <tbody>\n",
              "    <tr>\n",
              "      <th>0</th>\n",
              "      <td>NO</td>\n",
              "      <td>Single</td>\n",
              "      <td>50047</td>\n",
              "      <td>10</td>\n",
              "      <td>YES</td>\n",
              "      <td>Good</td>\n",
              "    </tr>\n",
              "    <tr>\n",
              "      <th>1</th>\n",
              "      <td>YES</td>\n",
              "      <td>Divorced</td>\n",
              "      <td>134075</td>\n",
              "      <td>18</td>\n",
              "      <td>YES</td>\n",
              "      <td>Good</td>\n",
              "    </tr>\n",
              "    <tr>\n",
              "      <th>2</th>\n",
              "      <td>NO</td>\n",
              "      <td>Married</td>\n",
              "      <td>160205</td>\n",
              "      <td>30</td>\n",
              "      <td>YES</td>\n",
              "      <td>Good</td>\n",
              "    </tr>\n",
              "    <tr>\n",
              "      <th>3</th>\n",
              "      <td>YES</td>\n",
              "      <td>Single</td>\n",
              "      <td>193264</td>\n",
              "      <td>15</td>\n",
              "      <td>YES</td>\n",
              "      <td>Good</td>\n",
              "    </tr>\n",
              "    <tr>\n",
              "      <th>4</th>\n",
              "      <td>NO</td>\n",
              "      <td>Married</td>\n",
              "      <td>27533</td>\n",
              "      <td>28</td>\n",
              "      <td>NO</td>\n",
              "      <td>Good</td>\n",
              "    </tr>\n",
              "    <tr>\n",
              "      <th>...</th>\n",
              "      <td>...</td>\n",
              "      <td>...</td>\n",
              "      <td>...</td>\n",
              "      <td>...</td>\n",
              "      <td>...</td>\n",
              "      <td>...</td>\n",
              "    </tr>\n",
              "    <tr>\n",
              "      <th>595</th>\n",
              "      <td>YES</td>\n",
              "      <td>Divorced</td>\n",
              "      <td>39492</td>\n",
              "      <td>7</td>\n",
              "      <td>YES</td>\n",
              "      <td>Good</td>\n",
              "    </tr>\n",
              "    <tr>\n",
              "      <th>596</th>\n",
              "      <td>YES</td>\n",
              "      <td>Divorced</td>\n",
              "      <td>55369</td>\n",
              "      <td>2</td>\n",
              "      <td>YES</td>\n",
              "      <td>Good</td>\n",
              "    </tr>\n",
              "    <tr>\n",
              "      <th>597</th>\n",
              "      <td>NO</td>\n",
              "      <td>Divorced</td>\n",
              "      <td>154058</td>\n",
              "      <td>0</td>\n",
              "      <td>YES</td>\n",
              "      <td>Good</td>\n",
              "    </tr>\n",
              "    <tr>\n",
              "      <th>598</th>\n",
              "      <td>YES</td>\n",
              "      <td>Married</td>\n",
              "      <td>180083</td>\n",
              "      <td>17</td>\n",
              "      <td>NO</td>\n",
              "      <td>Good</td>\n",
              "    </tr>\n",
              "    <tr>\n",
              "      <th>599</th>\n",
              "      <td>NO</td>\n",
              "      <td>Divorced</td>\n",
              "      <td>158137</td>\n",
              "      <td>16</td>\n",
              "      <td>NO</td>\n",
              "      <td>Good</td>\n",
              "    </tr>\n",
              "  </tbody>\n",
              "</table>\n",
              "<p>600 rows × 6 columns</p>\n",
              "</div>"
            ],
            "text/plain": [
              "    Undergrad Marital.Status  City.Population  Work.Experience Urban  \\\n",
              "0          NO         Single            50047               10   YES   \n",
              "1         YES       Divorced           134075               18   YES   \n",
              "2          NO        Married           160205               30   YES   \n",
              "3         YES         Single           193264               15   YES   \n",
              "4          NO        Married            27533               28    NO   \n",
              "..        ...            ...              ...              ...   ...   \n",
              "595       YES       Divorced            39492                7   YES   \n",
              "596       YES       Divorced            55369                2   YES   \n",
              "597        NO       Divorced           154058                0   YES   \n",
              "598       YES        Married           180083               17    NO   \n",
              "599        NO       Divorced           158137               16    NO   \n",
              "\n",
              "    Taxable.Income  \n",
              "0             Good  \n",
              "1             Good  \n",
              "2             Good  \n",
              "3             Good  \n",
              "4             Good  \n",
              "..             ...  \n",
              "595           Good  \n",
              "596           Good  \n",
              "597           Good  \n",
              "598           Good  \n",
              "599           Good  \n",
              "\n",
              "[600 rows x 6 columns]"
            ]
          },
          "execution_count": 39,
          "metadata": {},
          "output_type": "execute_result"
        }
      ],
      "source": [
        "for i in range(0,len(fraud['Urban'])):\n",
        "    if fraud.iloc[i,2] > 30000:\n",
        "        fraud.iloc[i,2] = 'Good'\n",
        "    else:\n",
        "        fraud.iloc[i,2] = 'Risky'\n",
        "col = ['Undergrad','Marital.Status','City.Population','Work.Experience','Urban','Taxable.Income']\n",
        "fraud = fraud[col]\n",
        "fraud"
      ]
    },
    {
      "cell_type": "code",
      "execution_count": null,
      "id": "ad52e622",
      "metadata": {
        "id": "ad52e622",
        "outputId": "addb341e-8963-4ece-fc20-4b41c5d767ca"
      },
      "outputs": [
        {
          "data": {
            "text/plain": [
              "Undergrad          0\n",
              "Marital.Status     0\n",
              "City.Population    0\n",
              "Work.Experience    0\n",
              "Urban              0\n",
              "Taxable.Income     0\n",
              "Prediction         0\n",
              "dtype: int64"
            ]
          },
          "execution_count": 40,
          "metadata": {},
          "output_type": "execute_result"
        }
      ],
      "source": [
        "copy.isna().sum()"
      ]
    },
    {
      "cell_type": "code",
      "execution_count": null,
      "id": "22b11e16",
      "metadata": {
        "id": "22b11e16",
        "outputId": "bdd1515b-ae5b-4be3-9b38-64553bbe192b"
      },
      "outputs": [
        {
          "data": {
            "text/html": [
              "<div>\n",
              "<style scoped>\n",
              "    .dataframe tbody tr th:only-of-type {\n",
              "        vertical-align: middle;\n",
              "    }\n",
              "\n",
              "    .dataframe tbody tr th {\n",
              "        vertical-align: top;\n",
              "    }\n",
              "\n",
              "    .dataframe thead th {\n",
              "        text-align: right;\n",
              "    }\n",
              "</style>\n",
              "<table border=\"1\" class=\"dataframe\">\n",
              "  <thead>\n",
              "    <tr style=\"text-align: right;\">\n",
              "      <th></th>\n",
              "      <th>Undergrad</th>\n",
              "      <th>Marital.Status</th>\n",
              "      <th>City.Population</th>\n",
              "      <th>Work.Experience</th>\n",
              "      <th>Urban</th>\n",
              "      <th>Taxable.Income</th>\n",
              "    </tr>\n",
              "  </thead>\n",
              "  <tbody>\n",
              "    <tr>\n",
              "      <th>0</th>\n",
              "      <td>0</td>\n",
              "      <td>0</td>\n",
              "      <td>50047</td>\n",
              "      <td>10</td>\n",
              "      <td>1</td>\n",
              "      <td>1</td>\n",
              "    </tr>\n",
              "    <tr>\n",
              "      <th>1</th>\n",
              "      <td>1</td>\n",
              "      <td>1</td>\n",
              "      <td>134075</td>\n",
              "      <td>18</td>\n",
              "      <td>1</td>\n",
              "      <td>1</td>\n",
              "    </tr>\n",
              "    <tr>\n",
              "      <th>2</th>\n",
              "      <td>0</td>\n",
              "      <td>2</td>\n",
              "      <td>160205</td>\n",
              "      <td>30</td>\n",
              "      <td>1</td>\n",
              "      <td>1</td>\n",
              "    </tr>\n",
              "    <tr>\n",
              "      <th>3</th>\n",
              "      <td>1</td>\n",
              "      <td>0</td>\n",
              "      <td>193264</td>\n",
              "      <td>15</td>\n",
              "      <td>1</td>\n",
              "      <td>1</td>\n",
              "    </tr>\n",
              "    <tr>\n",
              "      <th>4</th>\n",
              "      <td>0</td>\n",
              "      <td>2</td>\n",
              "      <td>27533</td>\n",
              "      <td>28</td>\n",
              "      <td>0</td>\n",
              "      <td>1</td>\n",
              "    </tr>\n",
              "    <tr>\n",
              "      <th>...</th>\n",
              "      <td>...</td>\n",
              "      <td>...</td>\n",
              "      <td>...</td>\n",
              "      <td>...</td>\n",
              "      <td>...</td>\n",
              "      <td>...</td>\n",
              "    </tr>\n",
              "    <tr>\n",
              "      <th>595</th>\n",
              "      <td>1</td>\n",
              "      <td>1</td>\n",
              "      <td>39492</td>\n",
              "      <td>7</td>\n",
              "      <td>1</td>\n",
              "      <td>1</td>\n",
              "    </tr>\n",
              "    <tr>\n",
              "      <th>596</th>\n",
              "      <td>1</td>\n",
              "      <td>1</td>\n",
              "      <td>55369</td>\n",
              "      <td>2</td>\n",
              "      <td>1</td>\n",
              "      <td>1</td>\n",
              "    </tr>\n",
              "    <tr>\n",
              "      <th>597</th>\n",
              "      <td>0</td>\n",
              "      <td>1</td>\n",
              "      <td>154058</td>\n",
              "      <td>0</td>\n",
              "      <td>1</td>\n",
              "      <td>1</td>\n",
              "    </tr>\n",
              "    <tr>\n",
              "      <th>598</th>\n",
              "      <td>1</td>\n",
              "      <td>2</td>\n",
              "      <td>180083</td>\n",
              "      <td>17</td>\n",
              "      <td>0</td>\n",
              "      <td>1</td>\n",
              "    </tr>\n",
              "    <tr>\n",
              "      <th>599</th>\n",
              "      <td>0</td>\n",
              "      <td>1</td>\n",
              "      <td>158137</td>\n",
              "      <td>16</td>\n",
              "      <td>0</td>\n",
              "      <td>1</td>\n",
              "    </tr>\n",
              "  </tbody>\n",
              "</table>\n",
              "<p>600 rows × 6 columns</p>\n",
              "</div>"
            ],
            "text/plain": [
              "     Undergrad  Marital.Status  City.Population  Work.Experience  Urban  \\\n",
              "0            0               0            50047               10      1   \n",
              "1            1               1           134075               18      1   \n",
              "2            0               2           160205               30      1   \n",
              "3            1               0           193264               15      1   \n",
              "4            0               2            27533               28      0   \n",
              "..         ...             ...              ...              ...    ...   \n",
              "595          1               1            39492                7      1   \n",
              "596          1               1            55369                2      1   \n",
              "597          0               1           154058                0      1   \n",
              "598          1               2           180083               17      0   \n",
              "599          0               1           158137               16      0   \n",
              "\n",
              "     Taxable.Income  \n",
              "0                 1  \n",
              "1                 1  \n",
              "2                 1  \n",
              "3                 1  \n",
              "4                 1  \n",
              "..              ...  \n",
              "595               1  \n",
              "596               1  \n",
              "597               1  \n",
              "598               1  \n",
              "599               1  \n",
              "\n",
              "[600 rows x 6 columns]"
            ]
          },
          "execution_count": 11,
          "metadata": {},
          "output_type": "execute_result"
        }
      ],
      "source": [
        "copy = fraud.copy()\n",
        "copy['Taxable.Income'] = copy['Taxable.Income'].map({'Good':1,'Risky':0})\n",
        "copy['Marital.Status'] = copy['Marital.Status'].map({'Single':0,'Divorced':1,'Married':2})\n",
        "copy['Undergrad'] = copy['Undergrad'].map({'NO':0,'YES':1})\n",
        "copy['Urban'] = copy['Urban'].map({'NO':0,'YES':1})\n",
        "copy"
      ]
    },
    {
      "cell_type": "code",
      "execution_count": null,
      "id": "86f1a958",
      "metadata": {
        "id": "86f1a958",
        "outputId": "81799e5a-3c6b-431f-8f6d-d323e9237af8"
      },
      "outputs": [
        {
          "data": {
            "image/png": "[encoded data removed]",
            "text/plain": [
              "<Figure size 432x288 with 1 Axes>"
            ]
          },
          "metadata": {
            "needs_background": "light"
          },
          "output_type": "display_data"
        }
      ],
      "source": [
        "import matplotlib.pyplot as plt\n",
        "import numpy as np\n",
        "\n",
        "x = np.sort(fraud['Undergrad'].unique())\n",
        "y = copy[['Undergrad','Taxable.Income']].groupby('Undergrad').sum()['Taxable.Income']\n",
        "plt.bar(x,y)\n",
        "plt.ylabel('No. of good people')\n",
        "plt.show()"
      ]
    },
    {
      "cell_type": "code",
      "execution_count": null,
      "id": "d59aa51d",
      "metadata": {
        "scrolled": false,
        "id": "d59aa51d",
        "outputId": "fe36a185-57b8-4aab-9fcf-fd6b7fe61175"
      },
      "outputs": [
        {
          "data": {
            "image/png": "[encoded data removed]",
            "text/plain": [
              "<Figure size 432x288 with 1 Axes>"
            ]
          },
          "metadata": {
            "needs_background": "light"
          },
          "output_type": "display_data"
        }
      ],
      "source": [
        "x = np.sort(copy['Marital.Status'].unique())\n",
        "y = copy[['Marital.Status','Taxable.Income']].groupby('Marital.Status').sum()['Taxable.Income']\n",
        "plt.bar(x,y)\n",
        "plt.ylabel('No. of good people')\n",
        "plt.show()\n"
      ]
    },
    {
      "cell_type": "code",
      "execution_count": null,
      "id": "95d157ca",
      "metadata": {
        "id": "95d157ca",
        "outputId": "c464d53f-35db-4dd6-bf86-a7c3e2c436ad"
      },
      "outputs": [
        {
          "data": {
            "image/png": "[encoded data removed]",
            "text/plain": [
              "<Figure size 432x288 with 1 Axes>"
            ]
          },
          "metadata": {
            "needs_background": "light"
          },
          "output_type": "display_data"
        }
      ],
      "source": [
        "x = np.sort(copy['Urban'].unique())\n",
        "y = copy[['Urban','Taxable.Income']].groupby('Urban').sum()['Taxable.Income']\n",
        "plt.bar(x,y)\n",
        "plt.ylabel('No. of good people')\n",
        "plt.show()"
      ]
    },
    {
      "cell_type": "code",
      "execution_count": null,
      "id": "bea91194",
      "metadata": {
        "id": "bea91194",
        "outputId": "bf2cce35-4652-46b6-fa1d-2be6dbf5503b"
      },
      "outputs": [
        {
          "data": {
            "image/png": "[encoded data removed]",
            "text/plain": [
              "<Figure size 432x288 with 1 Axes>"
            ]
          },
          "metadata": {
            "needs_background": "light"
          },
          "output_type": "display_data"
        }
      ],
      "source": [
        "import numpy as np\n",
        "fn = copy[['Work.Experience','Taxable.Income']].groupby('Work.Experience').sum()\n",
        "plt.plot(fn)\n",
        "plt.ylabel('No. of good people')\n",
        "plt.show()"
      ]
    },
    {
      "cell_type": "code",
      "execution_count": null,
      "id": "625c0806",
      "metadata": {
        "id": "625c0806",
        "outputId": "6c5bc6eb-126c-44aa-b92e-bc993f8c98a2"
      },
      "outputs": [
        {
          "name": "stdout",
          "output_type": "stream",
          "text": [
            "79.33333333333333  % of people have good taxable income\n"
          ]
        }
      ],
      "source": [
        "perc = copy['Taxable.Income'].sum()*100/len(fraud['Taxable.Income'])\n",
        "print(perc,\" % of people have good taxable income\")"
      ]
    },
    {
      "cell_type": "code",
      "execution_count": null,
      "id": "43730ba0",
      "metadata": {
        "id": "43730ba0",
        "outputId": "6e19c6cf-7a2d-457c-f5da-69ab03cf1451"
      },
      "outputs": [
        {
          "data": {
            "text/plain": [
              "array([0, 1, 2], dtype=int64)"
            ]
          },
          "execution_count": 19,
          "metadata": {},
          "output_type": "execute_result"
        }
      ],
      "source": [
        "copy['Marital.Status'].unique()"
      ]
    },
    {
      "cell_type": "code",
      "execution_count": null,
      "id": "da01f603",
      "metadata": {
        "id": "da01f603",
        "outputId": "a5cce612-6f79-4127-a1f2-8b3e5c6e8cb6"
      },
      "outputs": [
        {
          "data": {
            "text/plain": [
              "Single      36.166667\n",
              "Married     32.333333\n",
              "Divorced    31.500000\n",
              "Name: Marital.Status, dtype: float64"
            ]
          },
          "execution_count": 23,
          "metadata": {},
          "output_type": "execute_result"
        }
      ],
      "source": [
        "fraud['Marital.Status'].value_counts()*100/fraud['Marital.Status'].value_counts().sum()"
      ]
    },
    {
      "cell_type": "code",
      "execution_count": null,
      "id": "4698ae78",
      "metadata": {
        "scrolled": true,
        "id": "4698ae78",
        "outputId": "1345c62b-4bab-4c9c-d0f3-f28b547236c2"
      },
      "outputs": [
        {
          "data": {
            "text/plain": [
              "Single      36.554622\n",
              "Divorced    32.142857\n",
              "Married     31.302521\n",
              "Name: Marital.Status, dtype: float64"
            ]
          },
          "execution_count": 29,
          "metadata": {},
          "output_type": "execute_result"
        }
      ],
      "source": [
        "fraud[fraud['Taxable.Income']=='Good']['Marital.Status'].value_counts()*100/fraud[fraud['Taxable.Income']=='Good']['Marital.Status'].value_counts().sum()"
      ]
    },
    {
      "cell_type": "markdown",
      "id": "306ee36b",
      "metadata": {
        "id": "306ee36b"
      },
      "source": [
        "36% of people are single\n",
        "\n",
        "36% of good people are singles\n",
        "\n",
        "32% of people are married\n",
        "\n",
        "32% of good people are singles\n",
        "\n",
        "31% of people are divorced\n",
        "\n",
        "31% of good people are singles"
      ]
    },
    {
      "cell_type": "code",
      "execution_count": null,
      "id": "5f90d344",
      "metadata": {
        "scrolled": true,
        "id": "5f90d344",
        "outputId": "fd5f3cca-1d0f-45f8-a4c8-d0936ae72cb5"
      },
      "outputs": [
        {
          "data": {
            "text/html": [
              "<div>\n",
              "<style scoped>\n",
              "    .dataframe tbody tr th:only-of-type {\n",
              "        vertical-align: middle;\n",
              "    }\n",
              "\n",
              "    .dataframe tbody tr th {\n",
              "        vertical-align: top;\n",
              "    }\n",
              "\n",
              "    .dataframe thead th {\n",
              "        text-align: right;\n",
              "    }\n",
              "</style>\n",
              "<table border=\"1\" class=\"dataframe\">\n",
              "  <thead>\n",
              "    <tr style=\"text-align: right;\">\n",
              "      <th></th>\n",
              "      <th>Undergrad</th>\n",
              "      <th>Marital.Status</th>\n",
              "      <th>City.Population</th>\n",
              "      <th>Work.Experience</th>\n",
              "      <th>Urban</th>\n",
              "      <th>Taxable.Income</th>\n",
              "    </tr>\n",
              "  </thead>\n",
              "  <tbody>\n",
              "    <tr>\n",
              "      <th>Undergrad</th>\n",
              "      <td>1.000000</td>\n",
              "      <td>-0.008231</td>\n",
              "      <td>0.079579</td>\n",
              "      <td>-0.005362</td>\n",
              "      <td>-0.000267</td>\n",
              "      <td>-0.012523</td>\n",
              "    </tr>\n",
              "    <tr>\n",
              "      <th>Marital.Status</th>\n",
              "      <td>-0.008231</td>\n",
              "      <td>1.000000</td>\n",
              "      <td>-0.005193</td>\n",
              "      <td>0.029399</td>\n",
              "      <td>-0.017834</td>\n",
              "      <td>-0.033622</td>\n",
              "    </tr>\n",
              "    <tr>\n",
              "      <th>City.Population</th>\n",
              "      <td>0.079579</td>\n",
              "      <td>-0.005193</td>\n",
              "      <td>1.000000</td>\n",
              "      <td>0.013135</td>\n",
              "      <td>-0.040098</td>\n",
              "      <td>-0.012225</td>\n",
              "    </tr>\n",
              "    <tr>\n",
              "      <th>Work.Experience</th>\n",
              "      <td>-0.005362</td>\n",
              "      <td>0.029399</td>\n",
              "      <td>0.013135</td>\n",
              "      <td>1.000000</td>\n",
              "      <td>-0.094559</td>\n",
              "      <td>0.001972</td>\n",
              "    </tr>\n",
              "    <tr>\n",
              "      <th>Urban</th>\n",
              "      <td>-0.000267</td>\n",
              "      <td>-0.017834</td>\n",
              "      <td>-0.040098</td>\n",
              "      <td>-0.094559</td>\n",
              "      <td>1.000000</td>\n",
              "      <td>-0.004830</td>\n",
              "    </tr>\n",
              "    <tr>\n",
              "      <th>Taxable.Income</th>\n",
              "      <td>-0.012523</td>\n",
              "      <td>-0.033622</td>\n",
              "      <td>-0.012225</td>\n",
              "      <td>0.001972</td>\n",
              "      <td>-0.004830</td>\n",
              "      <td>1.000000</td>\n",
              "    </tr>\n",
              "  </tbody>\n",
              "</table>\n",
              "</div>"
            ],
            "text/plain": [
              "                 Undergrad  Marital.Status  City.Population  Work.Experience  \\\n",
              "Undergrad         1.000000       -0.008231         0.079579        -0.005362   \n",
              "Marital.Status   -0.008231        1.000000        -0.005193         0.029399   \n",
              "City.Population   0.079579       -0.005193         1.000000         0.013135   \n",
              "Work.Experience  -0.005362        0.029399         0.013135         1.000000   \n",
              "Urban            -0.000267       -0.017834        -0.040098        -0.094559   \n",
              "Taxable.Income   -0.012523       -0.033622        -0.012225         0.001972   \n",
              "\n",
              "                    Urban  Taxable.Income  \n",
              "Undergrad       -0.000267       -0.012523  \n",
              "Marital.Status  -0.017834       -0.033622  \n",
              "City.Population -0.040098       -0.012225  \n",
              "Work.Experience -0.094559        0.001972  \n",
              "Urban            1.000000       -0.004830  \n",
              "Taxable.Income  -0.004830        1.000000  "
            ]
          },
          "execution_count": 33,
          "metadata": {},
          "output_type": "execute_result"
        }
      ],
      "source": [
        "copy.corr()"
      ]
    },
    {
      "cell_type": "code",
      "execution_count": null,
      "id": "f0a0c7f8",
      "metadata": {
        "id": "f0a0c7f8"
      },
      "outputs": [],
      "source": [
        "x= copy.drop('Taxable.Income',axis = 1)\n",
        "y = copy['Taxable.Income'] "
      ]
    },
    {
      "cell_type": "code",
      "execution_count": null,
      "id": "7d9c3710",
      "metadata": {
        "id": "7d9c3710"
      },
      "outputs": [],
      "source": [
        "from sklearn.model_selection import train_test_split\n",
        "from sklearn.tree import DecisionTreeClassifier as DT\n",
        "x_train,x_test,y_train,y_test = train_test_split(x,y,test_size = 0.2)\n",
        "prediction = DT(criterion = 'entropy').fit(x_train,y_train).predict(x)"
      ]
    },
    {
      "cell_type": "code",
      "execution_count": null,
      "id": "143d705f",
      "metadata": {
        "id": "143d705f",
        "outputId": "9fab105d-0cfc-4f55-d178-1003634ed2d4"
      },
      "outputs": [
        {
          "name": "stderr",
          "output_type": "stream",
          "text": [
            "C:\\Users\\HP\\AppData\\Local\\Temp\\ipykernel_4556\\398718939.py:1: SettingWithCopyWarning: \n",
            "A value is trying to be set on a copy of a slice from a DataFrame.\n",
            "Try using .loc[row_indexer,col_indexer] = value instead\n",
            "\n",
            "See the caveats in the documentation: https://pandas.pydata.org/pandas-docs/stable/user_guide/indexing.html#returning-a-view-versus-a-copy\n",
            "  fraud['Prediction']= prediction\n",
            "C:\\Users\\HP\\AppData\\Local\\Temp\\ipykernel_4556\\398718939.py:3: SettingWithCopyWarning: \n",
            "A value is trying to be set on a copy of a slice from a DataFrame.\n",
            "Try using .loc[row_indexer,col_indexer] = value instead\n",
            "\n",
            "See the caveats in the documentation: https://pandas.pydata.org/pandas-docs/stable/user_guide/indexing.html#returning-a-view-versus-a-copy\n",
            "  fraud['Prediction'] = fraud['Prediction'].map({0:'Good',1:'Risky'})\n"
          ]
        },
        {
          "data": {
            "text/html": [
              "<div>\n",
              "<style scoped>\n",
              "    .dataframe tbody tr th:only-of-type {\n",
              "        vertical-align: middle;\n",
              "    }\n",
              "\n",
              "    .dataframe tbody tr th {\n",
              "        vertical-align: top;\n",
              "    }\n",
              "\n",
              "    .dataframe thead th {\n",
              "        text-align: right;\n",
              "    }\n",
              "</style>\n",
              "<table border=\"1\" class=\"dataframe\">\n",
              "  <thead>\n",
              "    <tr style=\"text-align: right;\">\n",
              "      <th></th>\n",
              "      <th>Undergrad</th>\n",
              "      <th>Marital.Status</th>\n",
              "      <th>City.Population</th>\n",
              "      <th>Work.Experience</th>\n",
              "      <th>Urban</th>\n",
              "      <th>Taxable.Income</th>\n",
              "      <th>Prediction</th>\n",
              "    </tr>\n",
              "  </thead>\n",
              "  <tbody>\n",
              "    <tr>\n",
              "      <th>0</th>\n",
              "      <td>NO</td>\n",
              "      <td>Single</td>\n",
              "      <td>50047</td>\n",
              "      <td>10</td>\n",
              "      <td>YES</td>\n",
              "      <td>Good</td>\n",
              "      <td>Risky</td>\n",
              "    </tr>\n",
              "    <tr>\n",
              "      <th>1</th>\n",
              "      <td>YES</td>\n",
              "      <td>Divorced</td>\n",
              "      <td>134075</td>\n",
              "      <td>18</td>\n",
              "      <td>YES</td>\n",
              "      <td>Good</td>\n",
              "      <td>Risky</td>\n",
              "    </tr>\n",
              "    <tr>\n",
              "      <th>2</th>\n",
              "      <td>NO</td>\n",
              "      <td>Married</td>\n",
              "      <td>160205</td>\n",
              "      <td>30</td>\n",
              "      <td>YES</td>\n",
              "      <td>Good</td>\n",
              "      <td>Risky</td>\n",
              "    </tr>\n",
              "    <tr>\n",
              "      <th>3</th>\n",
              "      <td>YES</td>\n",
              "      <td>Single</td>\n",
              "      <td>193264</td>\n",
              "      <td>15</td>\n",
              "      <td>YES</td>\n",
              "      <td>Good</td>\n",
              "      <td>Risky</td>\n",
              "    </tr>\n",
              "    <tr>\n",
              "      <th>4</th>\n",
              "      <td>NO</td>\n",
              "      <td>Married</td>\n",
              "      <td>27533</td>\n",
              "      <td>28</td>\n",
              "      <td>NO</td>\n",
              "      <td>Good</td>\n",
              "      <td>Risky</td>\n",
              "    </tr>\n",
              "    <tr>\n",
              "      <th>...</th>\n",
              "      <td>...</td>\n",
              "      <td>...</td>\n",
              "      <td>...</td>\n",
              "      <td>...</td>\n",
              "      <td>...</td>\n",
              "      <td>...</td>\n",
              "      <td>...</td>\n",
              "    </tr>\n",
              "    <tr>\n",
              "      <th>595</th>\n",
              "      <td>YES</td>\n",
              "      <td>Divorced</td>\n",
              "      <td>39492</td>\n",
              "      <td>7</td>\n",
              "      <td>YES</td>\n",
              "      <td>Good</td>\n",
              "      <td>Risky</td>\n",
              "    </tr>\n",
              "    <tr>\n",
              "      <th>596</th>\n",
              "      <td>YES</td>\n",
              "      <td>Divorced</td>\n",
              "      <td>55369</td>\n",
              "      <td>2</td>\n",
              "      <td>YES</td>\n",
              "      <td>Good</td>\n",
              "      <td>Risky</td>\n",
              "    </tr>\n",
              "    <tr>\n",
              "      <th>597</th>\n",
              "      <td>NO</td>\n",
              "      <td>Divorced</td>\n",
              "      <td>154058</td>\n",
              "      <td>0</td>\n",
              "      <td>YES</td>\n",
              "      <td>Good</td>\n",
              "      <td>Risky</td>\n",
              "    </tr>\n",
              "    <tr>\n",
              "      <th>598</th>\n",
              "      <td>YES</td>\n",
              "      <td>Married</td>\n",
              "      <td>180083</td>\n",
              "      <td>17</td>\n",
              "      <td>NO</td>\n",
              "      <td>Good</td>\n",
              "      <td>Risky</td>\n",
              "    </tr>\n",
              "    <tr>\n",
              "      <th>599</th>\n",
              "      <td>NO</td>\n",
              "      <td>Divorced</td>\n",
              "      <td>158137</td>\n",
              "      <td>16</td>\n",
              "      <td>NO</td>\n",
              "      <td>Good</td>\n",
              "      <td>Risky</td>\n",
              "    </tr>\n",
              "  </tbody>\n",
              "</table>\n",
              "<p>600 rows × 7 columns</p>\n",
              "</div>"
            ],
            "text/plain": [
              "    Undergrad Marital.Status  City.Population  Work.Experience Urban  \\\n",
              "0          NO         Single            50047               10   YES   \n",
              "1         YES       Divorced           134075               18   YES   \n",
              "2          NO        Married           160205               30   YES   \n",
              "3         YES         Single           193264               15   YES   \n",
              "4          NO        Married            27533               28    NO   \n",
              "..        ...            ...              ...              ...   ...   \n",
              "595       YES       Divorced            39492                7   YES   \n",
              "596       YES       Divorced            55369                2   YES   \n",
              "597        NO       Divorced           154058                0   YES   \n",
              "598       YES        Married           180083               17    NO   \n",
              "599        NO       Divorced           158137               16    NO   \n",
              "\n",
              "    Taxable.Income Prediction  \n",
              "0             Good      Risky  \n",
              "1             Good      Risky  \n",
              "2             Good      Risky  \n",
              "3             Good      Risky  \n",
              "4             Good      Risky  \n",
              "..             ...        ...  \n",
              "595           Good      Risky  \n",
              "596           Good      Risky  \n",
              "597           Good      Risky  \n",
              "598           Good      Risky  \n",
              "599           Good      Risky  \n",
              "\n",
              "[600 rows x 7 columns]"
            ]
          },
          "execution_count": 36,
          "metadata": {},
          "output_type": "execute_result"
        }
      ],
      "source": [
        "fraud['Prediction']= prediction\n",
        "copy['Prediction'] = prediction\n",
        "fraud['Prediction'] = fraud['Prediction'].map({0:'Good',1:'Risky'})\n",
        "fraud"
      ]
    },
    {
      "cell_type": "code",
      "execution_count": null,
      "id": "0658bb81",
      "metadata": {
        "id": "0658bb81",
        "outputId": "076529a1-7668-4a4a-fa8b-bba10dbf1f92"
      },
      "outputs": [
        {
          "name": "stdout",
          "output_type": "stream",
          "text": [
            "The model is  93.33333333333333 % effecient.\n"
          ]
        }
      ],
      "source": [
        "incorrect = sum(abs(copy['Taxable.Income']-copy['Prediction']))\n",
        "eficay = (600-incorrect)*100/600\n",
        "print('The model is ',eficay,'% effecient.')"
      ]
    }
  ],
  "metadata": {
    "kernelspec": {
      "display_name": "Python 3 (ipykernel)",
      "language": "python",
      "name": "python3"
    },
    "language_info": {
      "codemirror_mode": {
        "name": "ipython",
        "version": 3
      },
      "file_extension": ".py",
      "mimetype": "text/x-python",
      "name": "python",
      "nbconvert_exporter": "python",
      "pygments_lexer": "ipython3",
      "version": "3.9.12"
    },
    "colab": {
      "provenance": []
    }
  },
  "nbformat": 4,
  "nbformat_minor": 5
}